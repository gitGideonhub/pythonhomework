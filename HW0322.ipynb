{
 "cells": [
  {
   "cell_type": "code",
   "execution_count": 90,
   "metadata": {},
   "outputs": [
    {
     "data": {
      "text/plain": [
       "<matplotlib.axes._subplots.AxesSubplot at 0x15a42e9b6a0>"
      ]
     },
     "execution_count": 90,
     "metadata": {},
     "output_type": "execute_result"
    },
    {
     "data": {
      "image/png": "[encoded data removed]",
      "text/plain": [
       "<Figure size 432x288 with 1 Axes>"
      ]
     },
     "metadata": {},
     "output_type": "display_data"
    }
   ],
   "source": [
    "import numpy as np\n",
    "import matplotlib.pyplot as plt\n",
    "import pandas as pd\n",
    "df = pd.read_csv('http://stats.moe.gov.tw/files/detail/107/107_teacher.csv')\n",
    "df = df[0:30]\n",
    "Daytime=df[df.iloc[:,2]== '日']\n",
    "Daytime\n",
    "Daytime = Daytime.loc[:, '學校名稱':'一般教師(含客座及講座)-教授-女'].copy()\n",
    "male=df.iloc[:,3]\n",
    "female=df.iloc[:,4]\n",
    "total=male+female\n",
    "Daytime['教師總數'] = total\n",
    "Daytime = Daytime.sort_values(by = ['教師總數'], ascending=False)\n",
    "Daytime.plot.bar(x='學校名稱', y=['教師總數'])"
   ]
  },
  {
   "cell_type": "code",
   "execution_count": null,
   "metadata": {},
   "outputs": [],
   "source": []
  },
  {
   "cell_type": "code",
   "execution_count": null,
   "metadata": {},
   "outputs": [],
   "source": []
  }
 ],
 "metadata": {
  "kernelspec": {
   "display_name": "Python 3",
   "language": "python",
   "name": "python3"
  },
  "language_info": {
   "codemirror_mode": {
    "name": "ipython",
    "version": 3
   },
   "file_extension": ".py",
   "mimetype": "text/x-python",
   "name": "python",
   "nbconvert_exporter": "python",
   "pygments_lexer": "ipython3",
   "version": "3.6.5"
  }
 },
 "nbformat": 4,
 "nbformat_minor": 2
}
